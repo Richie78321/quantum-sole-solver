{
 "cells": [
  {
   "cell_type": "markdown",
   "id": "edb8b892",
   "metadata": {},
   "source": [
    "# Solving Linear Systems of Equations using HHL"
   ]
  },
  {
   "cell_type": "markdown",
   "id": "4f863b80",
   "metadata": {},
   "source": [
    "## Setup\n",
    "Initialize the IBMQ account for access to IBM quantum hardware.\n",
    "\n",
    "This assumes a `.env` file in the project root directory with the following content:\n",
    "```\n",
    "IBMQ_TOKEN=<IBM_TOKEN>\n",
    "```"
   ]
  },
  {
   "cell_type": "code",
   "execution_count": 96,
   "id": "7ba3fc9b",
   "metadata": {},
   "outputs": [],
   "source": [
    "from dotenv import load_dotenv\n",
    "from qiskit import IBMQ\n",
    "import os\n",
    "load_dotenv()\n",
    "\n",
    "IBMQ.save_account(token=os.getenv(\"IBMQ_TOKEN\"), overwrite=True)"
   ]
  },
  {
   "cell_type": "markdown",
   "id": "2994b47e",
   "metadata": {},
   "source": [
    "## HHL Qiskit Implementation"
   ]
  },
  {
   "cell_type": "markdown",
   "id": "f8625aec",
   "metadata": {},
   "source": [
    "### Initialization\n",
    "\n",
    "Import necessary libraries and define constants:\n",
    "* Import QuantumRegister and QuantumCircuit from Qiskit.\n",
    "* Import numpy to perform mathematical operations.\n",
    "* Define constants, such as the number of qubits, angle θ for `|b⟩ = [cos(θ), sin(θ)]`, and elements of the matrix A.\n",
    "   * In this implementation, `A` is a [tridiagonal symmetric matrix](https://en.wikipedia.org/wiki/Tridiagonal_matrix)."
   ]
  },
  {
   "cell_type": "code",
   "execution_count": 97,
   "id": "3b2620a8",
   "metadata": {},
   "outputs": [],
   "source": [
    "from qiskit import QuantumRegister, QuantumCircuit\n",
    "import numpy as np\n",
    "\n",
    "# Define constants\n",
    "t = 2  # Time parameter for encoding the matrix A\n",
    "NUM_QUBITS = 4  # Total number of qubits\n",
    "nb = 1  # Number of qubits representing the solution\n",
    "nl = 2  # Number of qubits representing the eigenvalues\n",
    "\n",
    "theta = .75  # Angle defining |b>\n",
    "a = 1  # Matrix diagonal\n",
    "b = -1/3  # Matrix off-diagonal"
   ]
  },
  {
   "cell_type": "markdown",
   "id": "5f2a4296",
   "metadata": {},
   "source": [
    "Initialize quantum circuit and registers:\n",
    "* Create a quantum register `qr` with the total number of qubits (`NUM_QUBITS`).\n",
    "* Define the quantum register partitions (`qrb`, `qrl`, `qra`) for the solution, eigenvalue, and ancilla qubits respectively.\n",
    "* Initialize a quantum circuit `qc` with the quantum registers `qr`."
   ]
  },
  {
   "cell_type": "code",
   "execution_count": 98,
   "id": "64bc6f32",
   "metadata": {},
   "outputs": [],
   "source": [
    "# Initialize the quantum and classical registers\n",
    "qr = QuantumRegister(NUM_QUBITS)\n",
    "\n",
    "# Create a Quantum Circuit\n",
    "qc = QuantumCircuit(qr)\n",
    "\n",
    "# Define the quantum register partitions\n",
    "qrb = qr[0:nb]  # Solution qubits\n",
    "qrl = qr[nb:nb+nl]  # Eigenvalue qubits\n",
    "qra = qr[nb+nl:nb+nl+1]  # Ancilla qubits"
   ]
  },
  {
   "cell_type": "markdown",
   "id": "77a1c543",
   "metadata": {},
   "source": [
    "Apply a rotation (RY) gate on the first qubit (`qrb[0]`) with an angle of `2*θ` to prepare the state `|b⟩`."
   ]
  },
  {
   "cell_type": "code",
   "execution_count": 99,
   "id": "fbcdb4ca",
   "metadata": {},
   "outputs": [
    {
     "data": {
      "text/plain": [
       "<qiskit.circuit.instructionset.InstructionSet at 0x7fcfbf643a00>"
      ]
     },
     "execution_count": 99,
     "metadata": {},
     "output_type": "execute_result"
    }
   ],
   "source": [
    "# State preparation\n",
    "qc.ry(2*theta, qrb[0])"
   ]
  },
  {
   "cell_type": "markdown",
   "id": "939c15d7",
   "metadata": {},
   "source": [
    "### Quantum Phase Estimation\n",
    "\n",
    "Performs QPE to estimate the eigenvalues of the matrix `A` encoded as a unitary operator `e^(iAt)`."
   ]
  },
  {
   "cell_type": "code",
   "execution_count": 100,
   "id": "841ff44e",
   "metadata": {},
   "outputs": [
    {
     "data": {
      "text/plain": [
       "<qiskit.circuit.instructionset.InstructionSet at 0x7fcfbeded9f0>"
      ]
     },
     "execution_count": 100,
     "metadata": {},
     "output_type": "execute_result"
    }
   ],
   "source": [
    "for qu in qrl:\n",
    "    qc.h(qu)\n",
    "\n",
    "qc.p(a*t, qrl[0])\n",
    "qc.p(a*t*2, qrl[1])\n",
    "\n",
    "qc.u(b*t, -np.pi/2, np.pi/2, qrb[0])"
   ]
  },
  {
   "cell_type": "code",
   "execution_count": 101,
   "id": "00af219c",
   "metadata": {
    "scrolled": true
   },
   "outputs": [
    {
     "data": {
      "text/plain": [
       "<qiskit.circuit.instructionset.InstructionSet at 0x7fcfbeded510>"
      ]
     },
     "execution_count": 101,
     "metadata": {},
     "output_type": "execute_result"
    }
   ],
   "source": [
    "# Controlled e^{iAt} on \\lambda_{1}:\n",
    "params=b*t\n",
    "\n",
    "qc.p(np.pi/2,qrb[0])\n",
    "qc.cx(qrl[0],qrb[0])\n",
    "qc.ry(params,qrb[0])\n",
    "qc.cx(qrl[0],qrb[0])\n",
    "qc.ry(-params,qrb[0])\n",
    "qc.p(3*np.pi/2,qrb[0])"
   ]
  },
  {
   "cell_type": "code",
   "execution_count": 102,
   "id": "17862251",
   "metadata": {},
   "outputs": [
    {
     "data": {
      "text/plain": [
       "<qiskit.circuit.instructionset.InstructionSet at 0x7fcfbedee3b0>"
      ]
     },
     "execution_count": 102,
     "metadata": {},
     "output_type": "execute_result"
    }
   ],
   "source": [
    "# Controlled e^{2iAt} on \\lambda_{2}:\n",
    "params = b*t*2\n",
    "\n",
    "qc.p(np.pi/2,qrb[0])\n",
    "qc.cx(qrl[1],qrb[0])\n",
    "qc.ry(params,qrb[0])\n",
    "qc.cx(qrl[1],qrb[0])\n",
    "qc.ry(-params,qrb[0])\n",
    "qc.p(3*np.pi/2,qrb[0])"
   ]
  },
  {
   "cell_type": "markdown",
   "id": "e09cc5e4",
   "metadata": {},
   "source": [
    "### Inverse Quantum Fourier Transform"
   ]
  },
  {
   "cell_type": "code",
   "execution_count": 103,
   "id": "e2fcaf5a",
   "metadata": {},
   "outputs": [
    {
     "data": {
      "text/plain": [
       "<qiskit.circuit.instructionset.InstructionSet at 0x7fcfbedee440>"
      ]
     },
     "execution_count": 103,
     "metadata": {},
     "output_type": "execute_result"
    }
   ],
   "source": [
    "qc.h(qrl[1])\n",
    "qc.rz(-np.pi/4,qrl[1])\n",
    "qc.cx(qrl[0],qrl[1])\n",
    "qc.rz(np.pi/4,qrl[1])\n",
    "qc.cx(qrl[0],qrl[1])\n",
    "qc.rz(-np.pi/4,qrl[0])\n",
    "qc.h(qrl[0])"
   ]
  },
  {
   "attachments": {},
   "cell_type": "markdown",
   "id": "f75d96d4",
   "metadata": {},
   "source": [
    "### Eigenvalue Rotation\n",
    "\n",
    "This step is less of a \"computation\" step, and more of a \"post-processing\" step to extract the actual solutions from the eigenvalues. To make use of the estimated eigenvalues, we need to rotate them to a basis that is aligned with the computational basis. Directly below, t1-t4 calculate the rotational angles for the eigenvalues. The t values could be dynamically coded, but since we are only dealing with a 2x2 matrix, it makes sense to hard code them.\n",
    "\n",
    "After calculating the rotation values, we apply a controlled-X gate to the eigenvalue and ancilla qubits to induce entanglement between the two. After, we apply a rotation (t1-t4) along the Y-axis to the Ancilla qubits."
   ]
  },
  {
   "cell_type": "code",
   "execution_count": null,
   "id": "87f800b2",
   "metadata": {},
   "outputs": [],
   "source": [
    "# Calculate Rotation Angles\n",
    "t1=(-np.pi +np.pi/3 - 2*np.arcsin(1/3))/4\n",
    "t2=(-np.pi -np.pi/3 + 2*np.arcsin(1/3))/4\n",
    "t3=(np.pi -np.pi/3 - 2*np.arcsin(1/3))/4\n",
    "t4=(np.pi +np.pi/3 + 2*np.arcsin(1/3))/4\n",
    "\n",
    "# Encode Eigenvalues into Ancilla Qubit\n",
    "qc.cx(qrl[1],qra[0])\n",
    "qc.ry(t1,qra[0])\n",
    "qc.cx(qrl[0],qra[0])\n",
    "qc.ry(t2,qra[0])\n",
    "qc.cx(qrl[1],qra[0])\n",
    "qc.ry(t3,qra[0])\n",
    "qc.cx(qrl[0],qra[0])\n",
    "qc.ry(t4,qra[0])"
   ]
  },
  {
   "cell_type": "code",
   "execution_count": 105,
   "id": "d74904eb",
   "metadata": {},
   "outputs": [
    {
     "name": "stdout",
     "output_type": "stream",
     "text": [
      "Depth: 25\n",
      "CNOTS: 10\n"
     ]
    },
    {
     "data": {
      "text/html": [
       "<pre style=\"word-wrap: normal;white-space: pre;background: #fff0;line-height: 1.1;font-family: &quot;Courier New&quot;,Courier,monospace\">       ┌─────────┐┌──────────────────────┐┌────────┐┌───┐┌──────────────┐┌───┐┌─────────────┐┌─────────┐┌────────┐┌───┐┌─────────────┐┌───┐┌────────────┐┌─────────┐                                                                                                              \n",
       "q40_0: ┤ Ry(1.5) ├┤ U(-0.66667,-π/2,π/2) ├┤ P(π/2) ├┤ X ├┤ Ry(-0.66667) ├┤ X ├┤ Ry(0.66667) ├┤ P(3π/2) ├┤ P(π/2) ├┤ X ├┤ Ry(-1.3333) ├┤ X ├┤ Ry(1.3333) ├┤ P(3π/2) ├──────────────────────────────────────────────────────────────────────────────────────────────────────────────\n",
       "       └──┬───┬──┘└───────┬──────┬───────┘└────────┘└─┬─┘└──────────────┘└─┬─┘└─────────────┘└─────────┘└────────┘└─┬─┘└─────────────┘└─┬─┘└────────────┘└─────────┘                      ┌──────────┐     ┌───┐                                                                  \n",
       "q40_1: ───┤ H ├───────────┤ P(2) ├────────────────────■────────────────────■────────────────────────────────────────┼───────────────────┼──────────────────────────────■───────────────■──┤ Rz(-π/4) ├─────┤ H ├────────■────────────────────────────────────────■────────────────\n",
       "          ├───┤           ├──────┤                                                                                  │                   │      ┌───┐     ┌──────────┐┌─┴─┐┌─────────┐┌─┴─┐└──────────┘     └───┘        │                                        │                \n",
       "q40_2: ───┤ H ├───────────┤ P(4) ├──────────────────────────────────────────────────────────────────────────────────■───────────────────■──────┤ H ├─────┤ Rz(-π/4) ├┤ X ├┤ Rz(π/4) ├┤ X ├─────■────────────────────────┼────────────────────■───────────────────┼────────────────\n",
       "          └───┘           └──────┘                                                                                                             └───┘     └──────────┘└───┘└─────────┘└───┘   ┌─┴─┐    ┌──────────────┐┌─┴─┐┌──────────────┐┌─┴─┐┌─────────────┐┌─┴─┐┌────────────┐\n",
       "q40_3: ──────────────────────────────────────────────────────────────────────────────────────────────────────────────────────────────────────────────────────────────────────────────────────┤ X ├────┤ Ry(-0.69352) ├┤ X ├┤ Ry(-0.87728) ├┤ X ├┤ Ry(0.35368) ├┤ X ├┤ Ry(1.2171) ├\n",
       "                                                                                                                                                                                             └───┘    └──────────────┘└───┘└──────────────┘└───┘└─────────────┘└───┘└────────────┘</pre>"
      ],
      "text/plain": [
       "       ┌─────────┐┌──────────────────────┐┌────────┐┌───┐┌──────────────┐┌───┐┌─────────────┐┌─────────┐┌────────┐┌───┐┌─────────────┐┌───┐┌────────────┐┌─────────┐                                                                                                              \n",
       "q40_0: ┤ Ry(1.5) ├┤ U(-0.66667,-π/2,π/2) ├┤ P(π/2) ├┤ X ├┤ Ry(-0.66667) ├┤ X ├┤ Ry(0.66667) ├┤ P(3π/2) ├┤ P(π/2) ├┤ X ├┤ Ry(-1.3333) ├┤ X ├┤ Ry(1.3333) ├┤ P(3π/2) ├──────────────────────────────────────────────────────────────────────────────────────────────────────────────\n",
       "       └──┬───┬──┘└───────┬──────┬───────┘└────────┘└─┬─┘└──────────────┘└─┬─┘└─────────────┘└─────────┘└────────┘└─┬─┘└─────────────┘└─┬─┘└────────────┘└─────────┘                      ┌──────────┐     ┌───┐                                                                  \n",
       "q40_1: ───┤ H ├───────────┤ P(2) ├────────────────────■────────────────────■────────────────────────────────────────┼───────────────────┼──────────────────────────────■───────────────■──┤ Rz(-π/4) ├─────┤ H ├────────■────────────────────────────────────────■────────────────\n",
       "          ├───┤           ├──────┤                                                                                  │                   │      ┌───┐     ┌──────────┐┌─┴─┐┌─────────┐┌─┴─┐└──────────┘     └───┘        │                                        │                \n",
       "q40_2: ───┤ H ├───────────┤ P(4) ├──────────────────────────────────────────────────────────────────────────────────■───────────────────■──────┤ H ├─────┤ Rz(-π/4) ├┤ X ├┤ Rz(π/4) ├┤ X ├─────■────────────────────────┼────────────────────■───────────────────┼────────────────\n",
       "          └───┘           └──────┘                                                                                                             └───┘     └──────────┘└───┘└─────────┘└───┘   ┌─┴─┐    ┌──────────────┐┌─┴─┐┌──────────────┐┌─┴─┐┌─────────────┐┌─┴─┐┌────────────┐\n",
       "q40_3: ──────────────────────────────────────────────────────────────────────────────────────────────────────────────────────────────────────────────────────────────────────────────────────┤ X ├────┤ Ry(-0.69352) ├┤ X ├┤ Ry(-0.87728) ├┤ X ├┤ Ry(0.35368) ├┤ X ├┤ Ry(1.2171) ├\n",
       "                                                                                                                                                                                             └───┘    └──────────────┘└───┘└──────────────┘└───┘└─────────────┘└───┘└────────────┘"
      ]
     },
     "execution_count": 105,
     "metadata": {},
     "output_type": "execute_result"
    }
   ],
   "source": [
    "print(f\"Depth: {qc.depth()}\")\n",
    "print(f\"CNOTS: {qc.count_ops()['cx']}\")\n",
    "qc.draw(fold=-1)"
   ]
  },
  {
   "cell_type": "markdown",
   "id": "f465dfb4",
   "metadata": {},
   "source": [
    "## Solution Measurement"
   ]
  },
  {
   "cell_type": "code",
   "execution_count": 106,
   "id": "3598fdc8",
   "metadata": {},
   "outputs": [],
   "source": [
    "from qiskit import ClassicalRegister\n",
    "\n",
    "cr = ClassicalRegister(nb) \n",
    "meas = QuantumCircuit(qr, cr)\n",
    "meas.measure(0, 0)\n",
    "\n",
    "qc_with_meas = qc.compose(meas)"
   ]
  },
  {
   "cell_type": "markdown",
   "id": "52f47dc4",
   "metadata": {},
   "source": [
    "## Run on Quantum Hardware"
   ]
  },
  {
   "cell_type": "markdown",
   "id": "fa354590",
   "metadata": {},
   "source": [
    "Transpile the quantum circuit for running on IBM hardware."
   ]
  },
  {
   "cell_type": "code",
   "execution_count": 107,
   "id": "44d46350",
   "metadata": {},
   "outputs": [
    {
     "name": "stderr",
     "output_type": "stream",
     "text": [
      "ibmqfactory.load_account:WARNING:2023-04-25 20:23:38,659: Credentials are already in use. The existing account in the session will be replaced.\n"
     ]
    }
   ],
   "source": [
    "from qiskit import IBMQ, transpile\n",
    "\n",
    "provider = IBMQ.load_account()\n",
    "\n",
    "backend = provider.get_backend('ibmq_quito') # calibrate using real hardware\n",
    "layout = [2,3,0,4]\n",
    "chip_qubits = 5\n",
    "\n",
    "# Transpiled circuit for the real hardware\n",
    "qc_with_meas_transpiled = transpile(qc_with_meas, backend=backend, initial_layout=layout)"
   ]
  },
  {
   "cell_type": "markdown",
   "id": "20d9aed0",
   "metadata": {},
   "source": [
    "Run the job on the IBM quantum hardware."
   ]
  },
  {
   "cell_type": "code",
   "execution_count": 108,
   "id": "82f96ed5",
   "metadata": {},
   "outputs": [],
   "source": [
    "NUM_SHOTS = 1024\n",
    "result = backend.run(qc_with_meas_transpiled, shots=NUM_SHOTS).result()\n",
    "counts = result.get_counts()"
   ]
  },
  {
   "cell_type": "markdown",
   "id": "c796e7f1",
   "metadata": {},
   "source": [
    "## Print the Results"
   ]
  },
  {
   "cell_type": "code",
   "execution_count": 109,
   "id": "e9618ab5",
   "metadata": {},
   "outputs": [
    {
     "name": "stdout",
     "output_type": "stream",
     "text": [
      "{'0': 573, '1': 451}\n"
     ]
    }
   ],
   "source": [
    "print(counts)"
   ]
  },
  {
   "cell_type": "code",
   "execution_count": 110,
   "id": "f703ad72",
   "metadata": {},
   "outputs": [
    {
     "name": "stdout",
     "output_type": "stream",
     "text": [
      "Quantum estimated solution vector: [0.74804433 0.66364877]\n"
     ]
    }
   ],
   "source": [
    "# Estimate the amplitudes from the measurement statistics\n",
    "prob_0 = counts.get('0', 0) / NUM_SHOTS\n",
    "prob_1 = counts.get('1', 0) / NUM_SHOTS\n",
    "alpha = np.sqrt(prob_0)\n",
    "beta = np.sqrt(prob_1)\n",
    "\n",
    "# Construct the approximate solution vector x\n",
    "x = np.array([alpha, beta])\n",
    "\n",
    "print(f\"Quantum estimated solution vector: {x}\")"
   ]
  },
  {
   "cell_type": "markdown",
   "id": "6a5fa09b",
   "metadata": {},
   "source": [
    "## Compare to Classical Solution"
   ]
  },
  {
   "cell_type": "code",
   "execution_count": 111,
   "id": "df91c40b",
   "metadata": {},
   "outputs": [
    {
     "name": "stdout",
     "output_type": "stream",
     "text": [
      "Classical solution vector: [0.71951437 0.69447755]\n"
     ]
    }
   ],
   "source": [
    "A_numpy = np.array([[a, b],\n",
    "              [b, a]])\n",
    "\n",
    "b_numpy = np.array([np.cos(theta), np.sin(theta)])\n",
    "\n",
    "x_classical = abs(np.linalg.solve(A_numpy, b_numpy))\n",
    "\n",
    "x_classical_normalized = x_classical / np.linalg.norm(x_classical)\n",
    "\n",
    "print(f\"Classical solution vector: {x_classical_normalized}\")"
   ]
  },
  {
   "cell_type": "code",
   "execution_count": 112,
   "id": "ca372bd0",
   "metadata": {},
   "outputs": [
    {
     "name": "stdout",
     "output_type": "stream",
     "text": [
      "Percent error in quantum solution vector: 4.20044%\n"
     ]
    }
   ],
   "source": [
    "error = 100 * np.linalg.norm(x - x_classical_normalized) / np.linalg.norm(x_classical_normalized)\n",
    "print(f\"Percent error in quantum solution vector: {round(error, 5)}%\")"
   ]
  }
 ],
 "metadata": {
  "kernelspec": {
   "display_name": "Python 3 (ipykernel)",
   "language": "python",
   "name": "python3"
  },
  "language_info": {
   "codemirror_mode": {
    "name": "ipython",
    "version": 3
   },
   "file_extension": ".py",
   "mimetype": "text/x-python",
   "name": "python",
   "nbconvert_exporter": "python",
   "pygments_lexer": "ipython3",
   "version": "3.9.7"
  }
 },
 "nbformat": 4,
 "nbformat_minor": 5
}
