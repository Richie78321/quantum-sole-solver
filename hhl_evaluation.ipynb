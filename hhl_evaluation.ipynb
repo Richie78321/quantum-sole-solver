{
 "cells": [
  {
   "cell_type": "markdown",
   "id": "edb8b892",
   "metadata": {},
   "source": [
    "# Solving Linear Systems of Equations using HHL"
   ]
  },
  {
   "cell_type": "markdown",
   "id": "4f863b80",
   "metadata": {},
   "source": [
    "## Setup\n",
    "Initialize the IBMQ account for access to IBM quantum hardware.\n",
    "\n",
    "This assumes a `.env` file in the project root directory with the following content:\n",
    "```\n",
    "IBMQ_TOKEN=<IBM_TOKEN>\n",
    "```"
   ]
  },
  {
   "cell_type": "code",
   "execution_count": 65,
   "id": "7ba3fc9b",
   "metadata": {},
   "outputs": [],
   "source": [
    "from dotenv import load_dotenv\n",
    "from qiskit import IBMQ\n",
    "import os\n",
    "load_dotenv()\n",
    "\n",
    "IBMQ.save_account(token=os.getenv(\"IBMQ_TOKEN\"), overwrite=True)"
   ]
  },
  {
   "cell_type": "markdown",
   "id": "2994b47e",
   "metadata": {},
   "source": [
    "## HHL Qiskit Implementation"
   ]
  },
  {
   "cell_type": "markdown",
   "id": "f8625aec",
   "metadata": {},
   "source": [
    "### Initialization\n",
    "\n",
    "Define important constants for the algorithm."
   ]
  },
  {
   "cell_type": "code",
   "execution_count": 39,
   "id": "3b2620a8",
   "metadata": {},
   "outputs": [],
   "source": [
    "from qiskit import QuantumRegister, QuantumCircuit\n",
    "import numpy as np\n",
    "\n",
    "t = 2\n",
    "\n",
    "# The total number of qubits in the circuit\n",
    "NUM_QUBITS = 4\n",
    "\n",
    "nb = 1  # Number of qubits representing the solution\n",
    "nl = 2  # Number of qubits representing the eigenvalues"
   ]
  },
  {
   "cell_type": "markdown",
   "id": "1e100aea",
   "metadata": {},
   "source": [
    "Assemble the [tridiagonal symmetric matrix](https://en.wikipedia.org/wiki/Tridiagonal_matrix)."
   ]
  },
  {
   "cell_type": "code",
   "execution_count": 71,
   "id": "b69eba71",
   "metadata": {},
   "outputs": [],
   "source": [
    "a = 1  # Matrix diagonal\n",
    "b = -1/3  # Matrix off-diagonal"
   ]
  },
  {
   "cell_type": "markdown",
   "id": "c6b1e4ad",
   "metadata": {},
   "source": [
    "Choose some `theta` for constructing `|b>` in the form `[cos(theta), sin(theta)]`"
   ]
  },
  {
   "cell_type": "code",
   "execution_count": null,
   "id": "76226bc3",
   "metadata": {},
   "outputs": [],
   "source": [
    "theta = 0  # Angle defining |b>"
   ]
  },
  {
   "cell_type": "markdown",
   "id": "5f2a4296",
   "metadata": {},
   "source": [
    "Initialize the quantum circuit."
   ]
  },
  {
   "cell_type": "code",
   "execution_count": 40,
   "id": "64bc6f32",
   "metadata": {},
   "outputs": [],
   "source": [
    "qr = QuantumRegister(NUM_QUBITS)\n",
    "qc = QuantumCircuit(qr)"
   ]
  },
  {
   "cell_type": "markdown",
   "id": "4d275f7c",
   "metadata": {},
   "source": [
    "Create slices for: `qrb` (the vector solution), `qrl`, `qra` (the ancilla qubit)."
   ]
  },
  {
   "cell_type": "code",
   "execution_count": 41,
   "id": "45e6d951",
   "metadata": {},
   "outputs": [
    {
     "data": {
      "text/plain": [
       "<qiskit.circuit.instructionset.InstructionSet at 0x7fbaa1b0acb0>"
      ]
     },
     "execution_count": 41,
     "metadata": {},
     "output_type": "execute_result"
    }
   ],
   "source": [
    "qrb = qr[0:nb]\n",
    "qrl = qr[nb:nb+nl]\n",
    "qra = qr[nb+nl:nb+nl+1]\n",
    "\n",
    "# State preparation.\n",
    "qc.ry(2*theta, qrb[0])"
   ]
  },
  {
   "cell_type": "markdown",
   "id": "939c15d7",
   "metadata": {},
   "source": [
    "# TODO: Explain this step (quantum phase estimation)"
   ]
  },
  {
   "cell_type": "code",
   "execution_count": 42,
   "id": "841ff44e",
   "metadata": {},
   "outputs": [
    {
     "data": {
      "text/plain": [
       "<qiskit.circuit.instructionset.InstructionSet at 0x7fbaa1b0bd30>"
      ]
     },
     "execution_count": 42,
     "metadata": {},
     "output_type": "execute_result"
    }
   ],
   "source": [
    "for qu in qrl:\n",
    "    qc.h(qu)\n",
    "\n",
    "qc.p(a*t, qrl[0])\n",
    "qc.p(a*t*2, qrl[1])\n",
    "\n",
    "qc.u(b*t, -np.pi/2, np.pi/2, qrb[0])"
   ]
  },
  {
   "cell_type": "markdown",
   "id": "accadaf0",
   "metadata": {},
   "source": [
    "# TODO: Explain this step"
   ]
  },
  {
   "cell_type": "code",
   "execution_count": 43,
   "id": "00af219c",
   "metadata": {},
   "outputs": [
    {
     "data": {
      "text/plain": [
       "<qiskit.circuit.instructionset.InstructionSet at 0x7fbaa1b0bd00>"
      ]
     },
     "execution_count": 43,
     "metadata": {},
     "output_type": "execute_result"
    }
   ],
   "source": [
    "# Controlled e^{iAt} on \\lambda_{1}:\n",
    "params=b*t\n",
    "\n",
    "qc.p(np.pi/2,qrb[0])\n",
    "qc.cx(qrl[0],qrb[0])\n",
    "qc.ry(params,qrb[0])\n",
    "qc.cx(qrl[0],qrb[0])\n",
    "qc.ry(-params,qrb[0])\n",
    "qc.p(3*np.pi/2,qrb[0])"
   ]
  },
  {
   "cell_type": "markdown",
   "id": "6e1d7397",
   "metadata": {},
   "source": [
    "# TODO: Explain this step"
   ]
  },
  {
   "cell_type": "code",
   "execution_count": 44,
   "id": "17862251",
   "metadata": {},
   "outputs": [
    {
     "data": {
      "text/plain": [
       "<qiskit.circuit.instructionset.InstructionSet at 0x7fbaa1b08370>"
      ]
     },
     "execution_count": 44,
     "metadata": {},
     "output_type": "execute_result"
    }
   ],
   "source": [
    "# Controlled e^{2iAt} on \\lambda_{2}:\n",
    "params = b*t*2\n",
    "\n",
    "qc.p(np.pi/2,qrb[0])\n",
    "qc.cx(qrl[1],qrb[0])\n",
    "qc.ry(params,qrb[0])\n",
    "qc.cx(qrl[1],qrb[0])\n",
    "qc.ry(-params,qrb[0])\n",
    "qc.p(3*np.pi/2,qrb[0])"
   ]
  },
  {
   "cell_type": "markdown",
   "id": "e09cc5e4",
   "metadata": {},
   "source": [
    "# TODO: Explain this step (inverse quantum fourier transform)"
   ]
  },
  {
   "cell_type": "code",
   "execution_count": 45,
   "id": "e2fcaf5a",
   "metadata": {},
   "outputs": [
    {
     "data": {
      "text/plain": [
       "<qiskit.circuit.instructionset.InstructionSet at 0x7fbaa2c9fb80>"
      ]
     },
     "execution_count": 45,
     "metadata": {},
     "output_type": "execute_result"
    }
   ],
   "source": [
    "# Inverse QFT\n",
    "qc.h(qrl[1])\n",
    "qc.rz(-np.pi/4,qrl[1])\n",
    "qc.cx(qrl[0],qrl[1])\n",
    "qc.rz(np.pi/4,qrl[1])\n",
    "qc.cx(qrl[0],qrl[1])\n",
    "qc.rz(-np.pi/4,qrl[0])\n",
    "qc.h(qrl[0])"
   ]
  },
  {
   "cell_type": "markdown",
   "id": "f75d96d4",
   "metadata": {},
   "source": [
    "# TODO: Explain this step"
   ]
  },
  {
   "cell_type": "code",
   "execution_count": 46,
   "id": "87f800b2",
   "metadata": {},
   "outputs": [],
   "source": [
    "# Eigenvalue rotation\n",
    "t1=(-np.pi +np.pi/3 - 2*np.arcsin(1/3))/4\n",
    "t2=(-np.pi -np.pi/3 + 2*np.arcsin(1/3))/4\n",
    "t3=(np.pi -np.pi/3 - 2*np.arcsin(1/3))/4\n",
    "t4=(np.pi +np.pi/3 + 2*np.arcsin(1/3))/4\n",
    "\n",
    "qc.cx(qrl[1],qra[0])\n",
    "qc.ry(t1,qra[0])\n",
    "qc.cx(qrl[0],qra[0])\n",
    "qc.ry(t2,qra[0])\n",
    "qc.cx(qrl[1],qra[0])\n",
    "qc.ry(t3,qra[0])\n",
    "qc.cx(qrl[0],qra[0])\n",
    "qc.ry(t4,qra[0])\n",
    "qc.measure_all()"
   ]
  },
  {
   "cell_type": "code",
   "execution_count": 47,
   "id": "d74904eb",
   "metadata": {},
   "outputs": [
    {
     "name": "stdout",
     "output_type": "stream",
     "text": [
      "Depth: 26\n",
      "CNOTS: 10\n"
     ]
    },
    {
     "data": {
      "text/html": [
       "<pre style=\"word-wrap: normal;white-space: pre;background: #fff0;line-height: 1.1;font-family: &quot;Courier New&quot;,Courier,monospace\">        ┌───────┐┌──────────────────────┐┌────────┐┌───┐┌──────────────┐┌───┐┌─────────────┐┌─────────┐┌────────┐┌───┐┌─────────────┐┌───┐┌────────────┐┌─────────┐                                                                                                               ░ ┌─┐         \n",
       "q419_0: ┤ Ry(0) ├┤ U(-0.66667,-π/2,π/2) ├┤ P(π/2) ├┤ X ├┤ Ry(-0.66667) ├┤ X ├┤ Ry(0.66667) ├┤ P(3π/2) ├┤ P(π/2) ├┤ X ├┤ Ry(-1.3333) ├┤ X ├┤ Ry(1.3333) ├┤ P(3π/2) ├───────────────────────────────────────────────────────────────────────────────────────────────────────────────░─┤M├─────────\n",
       "        └─┬───┬─┘└───────┬──────┬───────┘└────────┘└─┬─┘└──────────────┘└─┬─┘└─────────────┘└─────────┘└────────┘└─┬─┘└─────────────┘└─┬─┘└────────────┘└─────────┘                      ┌──────────┐     ┌───┐                                                                   ░ └╥┘┌─┐      \n",
       "q419_1: ──┤ H ├──────────┤ P(2) ├────────────────────■────────────────────■────────────────────────────────────────┼───────────────────┼──────────────────────────────■───────────────■──┤ Rz(-π/4) ├─────┤ H ├────────■────────────────────────────────────────■─────────────────░──╫─┤M├──────\n",
       "          ├───┤          ├──────┤                                                                                  │                   │      ┌───┐     ┌──────────┐┌─┴─┐┌─────────┐┌─┴─┐└──────────┘     └───┘        │                                        │                 ░  ║ └╥┘┌─┐   \n",
       "q419_2: ──┤ H ├──────────┤ P(4) ├──────────────────────────────────────────────────────────────────────────────────■───────────────────■──────┤ H ├─────┤ Rz(-π/4) ├┤ X ├┤ Rz(π/4) ├┤ X ├─────■────────────────────────┼────────────────────■───────────────────┼─────────────────░──╫──╫─┤M├───\n",
       "          └───┘          └──────┘                                                                                                             └───┘     └──────────┘└───┘└─────────┘└───┘   ┌─┴─┐    ┌──────────────┐┌─┴─┐┌──────────────┐┌─┴─┐┌─────────────┐┌─┴─┐┌────────────┐ ░  ║  ║ └╥┘┌─┐\n",
       "q419_3: ────────────────────────────────────────────────────────────────────────────────────────────────────────────────────────────────────────────────────────────────────────────────────┤ X ├────┤ Ry(-0.69352) ├┤ X ├┤ Ry(-0.87728) ├┤ X ├┤ Ry(0.35368) ├┤ X ├┤ Ry(1.2171) ├─░──╫──╫──╫─┤M├\n",
       "                                                                                                                                                                                            └───┘    └──────────────┘└───┘└──────────────┘└───┘└─────────────┘└───┘└────────────┘ ░  ║  ║  ║ └╥┘\n",
       "meas: 4/═════════════════════════════════════════════════════════════════════════════════════════════════════════════════════════════════════════════════════════════════════════════════════════════════════════════════════════════════════════════════════════════════════════════╩══╩══╩══╩═\n",
       "                                                                                                                                                                                                                                                                                     0  1  2  3 </pre>"
      ],
      "text/plain": [
       "        ┌───────┐┌──────────────────────┐┌────────┐┌───┐┌──────────────┐┌───┐┌─────────────┐┌─────────┐┌────────┐┌───┐┌─────────────┐┌───┐┌────────────┐┌─────────┐                                                                                                               ░ ┌─┐         \n",
       "q419_0: ┤ Ry(0) ├┤ U(-0.66667,-π/2,π/2) ├┤ P(π/2) ├┤ X ├┤ Ry(-0.66667) ├┤ X ├┤ Ry(0.66667) ├┤ P(3π/2) ├┤ P(π/2) ├┤ X ├┤ Ry(-1.3333) ├┤ X ├┤ Ry(1.3333) ├┤ P(3π/2) ├───────────────────────────────────────────────────────────────────────────────────────────────────────────────░─┤M├─────────\n",
       "        └─┬───┬─┘└───────┬──────┬───────┘└────────┘└─┬─┘└──────────────┘└─┬─┘└─────────────┘└─────────┘└────────┘└─┬─┘└─────────────┘└─┬─┘└────────────┘└─────────┘                      ┌──────────┐     ┌───┐                                                                   ░ └╥┘┌─┐      \n",
       "q419_1: ──┤ H ├──────────┤ P(2) ├────────────────────■────────────────────■────────────────────────────────────────┼───────────────────┼──────────────────────────────■───────────────■──┤ Rz(-π/4) ├─────┤ H ├────────■────────────────────────────────────────■─────────────────░──╫─┤M├──────\n",
       "          ├───┤          ├──────┤                                                                                  │                   │      ┌───┐     ┌──────────┐┌─┴─┐┌─────────┐┌─┴─┐└──────────┘     └───┘        │                                        │                 ░  ║ └╥┘┌─┐   \n",
       "q419_2: ──┤ H ├──────────┤ P(4) ├──────────────────────────────────────────────────────────────────────────────────■───────────────────■──────┤ H ├─────┤ Rz(-π/4) ├┤ X ├┤ Rz(π/4) ├┤ X ├─────■────────────────────────┼────────────────────■───────────────────┼─────────────────░──╫──╫─┤M├───\n",
       "          └───┘          └──────┘                                                                                                             └───┘     └──────────┘└───┘└─────────┘└───┘   ┌─┴─┐    ┌──────────────┐┌─┴─┐┌──────────────┐┌─┴─┐┌─────────────┐┌─┴─┐┌────────────┐ ░  ║  ║ └╥┘┌─┐\n",
       "q419_3: ────────────────────────────────────────────────────────────────────────────────────────────────────────────────────────────────────────────────────────────────────────────────────┤ X ├────┤ Ry(-0.69352) ├┤ X ├┤ Ry(-0.87728) ├┤ X ├┤ Ry(0.35368) ├┤ X ├┤ Ry(1.2171) ├─░──╫──╫──╫─┤M├\n",
       "                                                                                                                                                                                            └───┘    └──────────────┘└───┘└──────────────┘└───┘└─────────────┘└───┘└────────────┘ ░  ║  ║  ║ └╥┘\n",
       "meas: 4/═════════════════════════════════════════════════════════════════════════════════════════════════════════════════════════════════════════════════════════════════════════════════════════════════════════════════════════════════════════════════════════════════════════════╩══╩══╩══╩═\n",
       "                                                                                                                                                                                                                                                                                     0  1  2  3 "
      ]
     },
     "execution_count": 47,
     "metadata": {},
     "output_type": "execute_result"
    }
   ],
   "source": [
    "print(f\"Depth: {qc.depth()}\")\n",
    "print(f\"CNOTS: {qc.count_ops()['cx']}\")\n",
    "qc.draw(fold=-1)"
   ]
  },
  {
   "cell_type": "markdown",
   "id": "52f47dc4",
   "metadata": {},
   "source": [
    "## Run on Quantum Hardware"
   ]
  },
  {
   "cell_type": "markdown",
   "id": "fa354590",
   "metadata": {},
   "source": [
    "Transpile the quantum circuit for running on IBM hardware."
   ]
  },
  {
   "cell_type": "code",
   "execution_count": 66,
   "id": "44d46350",
   "metadata": {},
   "outputs": [],
   "source": [
    "from qiskit import IBMQ, transpile\n",
    "from qiskit.utils.mitigation import complete_meas_cal\n",
    "\n",
    "provider = IBMQ.load_account()\n",
    "\n",
    "backend = provider.get_backend('ibmq_quito') # calibrate using real hardware\n",
    "layout = [2,3,0,4]\n",
    "chip_qubits = 5\n",
    "\n",
    "# Transpiled circuit for the real hardware\n",
    "qc_qa_cx = transpile(qc, backend=backend, initial_layout=layout)"
   ]
  },
  {
   "cell_type": "markdown",
   "id": "9bea3c5d",
   "metadata": {},
   "source": [
    "# TODO: Explain this step\n",
    "\n",
    "Looks like some sort of error correction method"
   ]
  },
  {
   "cell_type": "code",
   "execution_count": 67,
   "id": "e5a0b5af",
   "metadata": {},
   "outputs": [],
   "source": [
    "meas_cals, state_labels = complete_meas_cal(qubit_list=layout,\n",
    "                                            qr=QuantumRegister(chip_qubits))\n",
    "qcs = meas_cals + [qc_qa_cx]"
   ]
  },
  {
   "cell_type": "markdown",
   "id": "20d9aed0",
   "metadata": {},
   "source": [
    "Run the job on the IBM quantum hardware."
   ]
  },
  {
   "cell_type": "code",
   "execution_count": 68,
   "id": "82f96ed5",
   "metadata": {},
   "outputs": [],
   "source": [
    "job = backend.run(qcs, shots=10)"
   ]
  },
  {
   "cell_type": "code",
   "execution_count": 70,
   "id": "093502e7",
   "metadata": {},
   "outputs": [
    {
     "name": "stdout",
     "output_type": "stream",
     "text": [
      "Result(backend_name='ibmq_quito', backend_version='1.1.40', qobj_id='b1cdb275-25ab-45bf-b950-9b84309dfec6', job_id='circuit-runner_ch1arnncqt7n77pa8ie0_99f1_0', success=True, results=[ExperimentResult(shots=10, success=True, meas_level=2, data=ExperimentResultData(counts={'0x0': 8, '0x2': 2}), header=QobjExperimentHeader(clbit_labels=[['c3', 0], ['c3', 1], ['c3', 2], ['c3', 3]], creg_sizes=[['c3', 4]], global_phase=0, memory_slots=4, metadata={}, n_qubits=5, name='cal_0000', qreg_sizes=[['q459', 5]], qubit_labels=[['q459', 0], ['q459', 1], ['q459', 2], ['q459', 3], ['q459', 4]]), status=done), ExperimentResult(shots=10, success=True, meas_level=2, data=ExperimentResultData(counts={'0x0': 1, '0x1': 8, '0x3': 1}), header=QobjExperimentHeader(clbit_labels=[['c3', 0], ['c3', 1], ['c3', 2], ['c3', 3]], creg_sizes=[['c3', 4]], global_phase=0, memory_slots=4, metadata={}, n_qubits=5, name='cal_0001', qreg_sizes=[['q459', 5]], qubit_labels=[['q459', 0], ['q459', 1], ['q459', 2], ['q459', 3], ['q459', 4]]), status=done), ExperimentResult(shots=10, success=True, meas_level=2, data=ExperimentResultData(counts={'0x2': 8, '0x3': 2}), header=QobjExperimentHeader(clbit_labels=[['c3', 0], ['c3', 1], ['c3', 2], ['c3', 3]], creg_sizes=[['c3', 4]], global_phase=0, memory_slots=4, metadata={}, n_qubits=5, name='cal_0010', qreg_sizes=[['q459', 5]], qubit_labels=[['q459', 0], ['q459', 1], ['q459', 2], ['q459', 3], ['q459', 4]]), status=done), ExperimentResult(shots=10, success=True, meas_level=2, data=ExperimentResultData(counts={'0x2': 1, '0x3': 9}), header=QobjExperimentHeader(clbit_labels=[['c3', 0], ['c3', 1], ['c3', 2], ['c3', 3]], creg_sizes=[['c3', 4]], global_phase=0, memory_slots=4, metadata={}, n_qubits=5, name='cal_0011', qreg_sizes=[['q459', 5]], qubit_labels=[['q459', 0], ['q459', 1], ['q459', 2], ['q459', 3], ['q459', 4]]), status=done), ExperimentResult(shots=10, success=True, meas_level=2, data=ExperimentResultData(counts={'0x4': 7, '0x5': 1, '0x6': 1, '0xd': 1}), header=QobjExperimentHeader(clbit_labels=[['c3', 0], ['c3', 1], ['c3', 2], ['c3', 3]], creg_sizes=[['c3', 4]], global_phase=0, memory_slots=4, metadata={}, n_qubits=5, name='cal_0100', qreg_sizes=[['q459', 5]], qubit_labels=[['q459', 0], ['q459', 1], ['q459', 2], ['q459', 3], ['q459', 4]]), status=done), ExperimentResult(shots=10, success=True, meas_level=2, data=ExperimentResultData(counts={'0x1': 1, '0x5': 8, '0x7': 1}), header=QobjExperimentHeader(clbit_labels=[['c3', 0], ['c3', 1], ['c3', 2], ['c3', 3]], creg_sizes=[['c3', 4]], global_phase=0, memory_slots=4, metadata={}, n_qubits=5, name='cal_0101', qreg_sizes=[['q459', 5]], qubit_labels=[['q459', 0], ['q459', 1], ['q459', 2], ['q459', 3], ['q459', 4]]), status=done), ExperimentResult(shots=10, success=True, meas_level=2, data=ExperimentResultData(counts={'0x2': 1, '0x4': 1, '0x6': 7, '0x7': 1}), header=QobjExperimentHeader(clbit_labels=[['c3', 0], ['c3', 1], ['c3', 2], ['c3', 3]], creg_sizes=[['c3', 4]], global_phase=0, memory_slots=4, metadata={}, n_qubits=5, name='cal_0110', qreg_sizes=[['q459', 5]], qubit_labels=[['q459', 0], ['q459', 1], ['q459', 2], ['q459', 3], ['q459', 4]]), status=done), ExperimentResult(shots=10, success=True, meas_level=2, data=ExperimentResultData(counts={'0x5': 2, '0x7': 8}), header=QobjExperimentHeader(clbit_labels=[['c3', 0], ['c3', 1], ['c3', 2], ['c3', 3]], creg_sizes=[['c3', 4]], global_phase=0, memory_slots=4, metadata={}, n_qubits=5, name='cal_0111', qreg_sizes=[['q459', 5]], qubit_labels=[['q459', 0], ['q459', 1], ['q459', 2], ['q459', 3], ['q459', 4]]), status=done), ExperimentResult(shots=10, success=True, meas_level=2, data=ExperimentResultData(counts={'0x0': 1, '0x8': 9}), header=QobjExperimentHeader(clbit_labels=[['c3', 0], ['c3', 1], ['c3', 2], ['c3', 3]], creg_sizes=[['c3', 4]], global_phase=0, memory_slots=4, metadata={}, n_qubits=5, name='cal_1000', qreg_sizes=[['q459', 5]], qubit_labels=[['q459', 0], ['q459', 1], ['q459', 2], ['q459', 3], ['q459', 4]]), status=done), ExperimentResult(shots=10, success=True, meas_level=2, data=ExperimentResultData(counts={'0x1': 1, '0x9': 8, '0xd': 1}), header=QobjExperimentHeader(clbit_labels=[['c3', 0], ['c3', 1], ['c3', 2], ['c3', 3]], creg_sizes=[['c3', 4]], global_phase=0, memory_slots=4, metadata={}, n_qubits=5, name='cal_1001', qreg_sizes=[['q459', 5]], qubit_labels=[['q459', 0], ['q459', 1], ['q459', 2], ['q459', 3], ['q459', 4]]), status=done), ExperimentResult(shots=10, success=True, meas_level=2, data=ExperimentResultData(counts={'0x2': 1, '0xa': 8, '0xb': 1}), header=QobjExperimentHeader(clbit_labels=[['c3', 0], ['c3', 1], ['c3', 2], ['c3', 3]], creg_sizes=[['c3', 4]], global_phase=0, memory_slots=4, metadata={}, n_qubits=5, name='cal_1010', qreg_sizes=[['q459', 5]], qubit_labels=[['q459', 0], ['q459', 1], ['q459', 2], ['q459', 3], ['q459', 4]]), status=done), ExperimentResult(shots=10, success=True, meas_level=2, data=ExperimentResultData(counts={'0x9': 2, '0xa': 1, '0xb': 7}), header=QobjExperimentHeader(clbit_labels=[['c3', 0], ['c3', 1], ['c3', 2], ['c3', 3]], creg_sizes=[['c3', 4]], global_phase=0, memory_slots=4, metadata={}, n_qubits=5, name='cal_1011', qreg_sizes=[['q459', 5]], qubit_labels=[['q459', 0], ['q459', 1], ['q459', 2], ['q459', 3], ['q459', 4]]), status=done), ExperimentResult(shots=10, success=True, meas_level=2, data=ExperimentResultData(counts={'0x0': 1, '0x4': 1, '0x9': 1, '0xc': 6, '0xd': 1}), header=QobjExperimentHeader(clbit_labels=[['c3', 0], ['c3', 1], ['c3', 2], ['c3', 3]], creg_sizes=[['c3', 4]], global_phase=0, memory_slots=4, metadata={}, n_qubits=5, name='cal_1100', qreg_sizes=[['q459', 5]], qubit_labels=[['q459', 0], ['q459', 1], ['q459', 2], ['q459', 3], ['q459', 4]]), status=done), ExperimentResult(shots=10, success=True, meas_level=2, data=ExperimentResultData(counts={'0x5': 1, '0x9': 3, '0xd': 6}), header=QobjExperimentHeader(clbit_labels=[['c3', 0], ['c3', 1], ['c3', 2], ['c3', 3]], creg_sizes=[['c3', 4]], global_phase=0, memory_slots=4, metadata={}, n_qubits=5, name='cal_1101', qreg_sizes=[['q459', 5]], qubit_labels=[['q459', 0], ['q459', 1], ['q459', 2], ['q459', 3], ['q459', 4]]), status=done), ExperimentResult(shots=10, success=True, meas_level=2, data=ExperimentResultData(counts={'0x6': 1, '0xa': 1, '0xe': 8}), header=QobjExperimentHeader(clbit_labels=[['c3', 0], ['c3', 1], ['c3', 2], ['c3', 3]], creg_sizes=[['c3', 4]], global_phase=0, memory_slots=4, metadata={}, n_qubits=5, name='cal_1110', qreg_sizes=[['q459', 5]], qubit_labels=[['q459', 0], ['q459', 1], ['q459', 2], ['q459', 3], ['q459', 4]]), status=done), ExperimentResult(shots=10, success=True, meas_level=2, data=ExperimentResultData(counts={'0x7': 1, '0xb': 1, '0xd': 1, '0xf': 7}), header=QobjExperimentHeader(clbit_labels=[['c3', 0], ['c3', 1], ['c3', 2], ['c3', 3]], creg_sizes=[['c3', 4]], global_phase=0, memory_slots=4, metadata={}, n_qubits=5, name='cal_1111', qreg_sizes=[['q459', 5]], qubit_labels=[['q459', 0], ['q459', 1], ['q459', 2], ['q459', 3], ['q459', 4]]), status=done), ExperimentResult(shots=10, success=True, meas_level=2, data=ExperimentResultData(counts={'0x0': 1, '0x4': 1, '0xc': 6, '0xd': 2}), header=QobjExperimentHeader(clbit_labels=[['meas', 0], ['meas', 1], ['meas', 2], ['meas', 3]], creg_sizes=[['meas', 4]], global_phase=1.4292036732051017, memory_slots=4, metadata={}, n_qubits=5, name='circuit-5695', qreg_sizes=[['q', 5]], qubit_labels=[['q', 0], ['q', 1], ['q', 2], ['q', 3], ['q', 4]]), status=done)], date=2023-04-21 15:38:15+00:00, status=Successful completion, header=QobjHeader(backend_name='ibmq_quito', backend_version='1.1.40', _ibm_tracing_={'uber-trace-id': '6c4cb2206e4d53b6364316998bba4196:6cc055d183483d96:7e99c4001c8526e4:1'}), execution_id='868f732e-e05a-11ed-8c73-b02628f7f59e', time_taken=2.876787178, error=None, client_version={'qiskit': '0.42.1'})\n"
     ]
    }
   ],
   "source": [
    "print(job.result())"
   ]
  },
  {
   "cell_type": "code",
   "execution_count": null,
   "id": "c53a608e",
   "metadata": {},
   "outputs": [],
   "source": []
  }
 ],
 "metadata": {
  "kernelspec": {
   "display_name": "Python 3 (ipykernel)",
   "language": "python",
   "name": "python3"
  },
  "language_info": {
   "codemirror_mode": {
    "name": "ipython",
    "version": 3
   },
   "file_extension": ".py",
   "mimetype": "text/x-python",
   "name": "python",
   "nbconvert_exporter": "python",
   "pygments_lexer": "ipython3",
   "version": "3.11.3"
  }
 },
 "nbformat": 4,
 "nbformat_minor": 5
}
