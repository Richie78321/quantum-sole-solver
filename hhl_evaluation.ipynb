{
 "cells": [
  {
   "cell_type": "markdown",
   "id": "edb8b892",
   "metadata": {},
   "source": [
    "# Solving Linear Systems of Equations using HHL"
   ]
  },
  {
   "cell_type": "markdown",
   "id": "4f863b80",
   "metadata": {},
   "source": [
    "## Setup\n",
    "Initialize the IBMQ account for access to IBM quantum hardware.\n",
    "\n",
    "This assumes a `.env` file in the project root directory with the following content:\n",
    "```\n",
    "IBMQ_TOKEN=<IBM_TOKEN>\n",
    "```"
   ]
  },
  {
   "cell_type": "code",
   "execution_count": 2,
   "id": "7ba3fc9b",
   "metadata": {},
   "outputs": [
    {
     "name": "stderr",
     "output_type": "stream",
     "text": [
      "/tmp/ipykernel_2648896/2691405560.py:6: DeprecationWarning: The package qiskit.providers.ibmq is being deprecated. Please see https://ibm.biz/provider_migration_guide to get instructions on how to migrate to qiskit-ibm-provider (https://github.com/Qiskit/qiskit-ibm-provider) and qiskit-ibm-runtime (https://github.com/Qiskit/qiskit-ibm-runtime).\n",
      "  IBMQ.save_account(token=os.getenv(\"IBMQ_TOKEN\"), overwrite=True)\n",
      "/tmp/ipykernel_2648896/2691405560.py:6: DeprecationWarning: The qiskit.IBMQ entrypoint and the qiskit-ibmq-provider package (accessible from 'qiskit.providers.ibmq`) are deprecated and will be removed in a future release. Instead you should use the qiskit-ibm-provider package which is accessible from 'qiskit_ibm_provider'. You can install it with 'pip install qiskit_ibm_provider'. Just replace 'qiskit.IBMQ' with 'qiskit_ibm_provider.IBMProvider'\n",
      "  IBMQ.save_account(token=os.getenv(\"IBMQ_TOKEN\"), overwrite=True)\n"
     ]
    }
   ],
   "source": [
    "from dotenv import load_dotenv\n",
    "from qiskit import IBMQ\n",
    "import os\n",
    "load_dotenv()\n",
    "\n",
    "IBMQ.save_account(token=os.getenv(\"IBMQ_TOKEN\"), overwrite=True)"
   ]
  },
  {
   "cell_type": "markdown",
   "id": "2994b47e",
   "metadata": {},
   "source": [
    "## HHL Qiskit Implementation"
   ]
  },
  {
   "cell_type": "markdown",
   "id": "f8625aec",
   "metadata": {},
   "source": [
    "### Initialization\n",
    "\n",
    "Import necessary libraries and define constants:\n",
    "* Import QuantumRegister and QuantumCircuit from Qiskit.\n",
    "* Import numpy to perform mathematical operations.\n",
    "* Define constants, such as the number of qubits, angle θ for `|b⟩ = [cos(θ), sin(θ)]`, and elements of the matrix A.\n",
    "   * In this implementation, `A` is a [tridiagonal symmetric matrix](https://en.wikipedia.org/wiki/Tridiagonal_matrix)."
   ]
  },
  {
   "cell_type": "code",
   "execution_count": 3,
   "id": "3b2620a8",
   "metadata": {},
   "outputs": [],
   "source": [
    "from qiskit import QuantumRegister, QuantumCircuit\n",
    "import numpy as np\n",
    "\n",
    "# Define constants\n",
    "t = 2  # Time parameter for encoding the matrix A\n",
    "NUM_QUBITS = 4  # Total number of qubits\n",
    "nb = 1  # Number of qubits representing the solution\n",
    "nl = 2  # Number of qubits representing the eigenvalues\n",
    "\n",
    "theta = 0  # Angle defining |b>\n",
    "a = 1  # Matrix diagonal\n",
    "b = -1/3  # Matrix off-diagonal"
   ]
  },
  {
   "cell_type": "markdown",
   "id": "5f2a4296",
   "metadata": {},
   "source": [
    "Initialize quantum circuit and registers:\n",
    "* Create a quantum register `qr` with the total number of qubits (`NUM_QUBITS`).\n",
    "* Define the quantum register partitions (`qrb`, `qrl`, `qra`) for the solution, eigenvalue, and ancilla qubits respectively.\n",
    "* Initialize a quantum circuit `qc` with the quantum registers `qr`."
   ]
  },
  {
   "cell_type": "code",
   "execution_count": 4,
   "id": "64bc6f32",
   "metadata": {},
   "outputs": [],
   "source": [
    "# Initialize the quantum and classical registers\n",
    "qr = QuantumRegister(NUM_QUBITS)\n",
    "\n",
    "# Create a Quantum Circuit\n",
    "qc = QuantumCircuit(qr)\n",
    "\n",
    "# Define the quantum register partitions\n",
    "qrb = qr[0:nb]  # Solution qubits\n",
    "qrl = qr[nb:nb+nl]  # Eigenvalue qubits\n",
    "qra = qr[nb+nl:nb+nl+1]  # Ancilla qubits"
   ]
  },
  {
   "cell_type": "markdown",
   "id": "77a1c543",
   "metadata": {},
   "source": [
    "Apply a rotation (RY) gate on the first qubit (`qrb[0]`) with an angle of `2*θ` to prepare the state `|b⟩`."
   ]
  },
  {
   "cell_type": "code",
   "execution_count": 5,
   "id": "fbcdb4ca",
   "metadata": {},
   "outputs": [
    {
     "data": {
      "text/plain": [
       "<qiskit.circuit.instructionset.InstructionSet at 0x7fdb70956b60>"
      ]
     },
     "execution_count": 5,
     "metadata": {},
     "output_type": "execute_result"
    }
   ],
   "source": [
    "# State preparation\n",
    "qc.ry(2*theta, qrb[0])"
   ]
  },
  {
   "cell_type": "markdown",
   "id": "939c15d7",
   "metadata": {},
   "source": [
    "### Quantum Phase Estimation\n",
    "\n",
    "Performs QPE to estimate the eigenvalues of the matrix `A` encoded as a unitary operator `e^(iAt)`."
   ]
  },
  {
   "cell_type": "code",
   "execution_count": 6,
   "id": "841ff44e",
   "metadata": {},
   "outputs": [
    {
     "data": {
      "text/plain": [
       "<qiskit.circuit.instructionset.InstructionSet at 0x7fdb709575b0>"
      ]
     },
     "execution_count": 6,
     "metadata": {},
     "output_type": "execute_result"
    }
   ],
   "source": [
    "for qu in qrl:\n",
    "    qc.h(qu)\n",
    "\n",
    "qc.p(a*t, qrl[0])\n",
    "qc.p(a*t*2, qrl[1])\n",
    "\n",
    "qc.u(b*t, -np.pi/2, np.pi/2, qrb[0])"
   ]
  },
  {
   "cell_type": "code",
   "execution_count": 7,
   "id": "00af219c",
   "metadata": {
    "scrolled": true
   },
   "outputs": [
    {
     "data": {
      "text/plain": [
       "<qiskit.circuit.instructionset.InstructionSet at 0x7fdb70957e20>"
      ]
     },
     "execution_count": 7,
     "metadata": {},
     "output_type": "execute_result"
    }
   ],
   "source": [
    "# Controlled e^{iAt} on \\lambda_{1}:\n",
    "params=b*t\n",
    "\n",
    "qc.p(np.pi/2,qrb[0])\n",
    "qc.cx(qrl[0],qrb[0])\n",
    "qc.ry(params,qrb[0])\n",
    "qc.cx(qrl[0],qrb[0])\n",
    "qc.ry(-params,qrb[0])\n",
    "qc.p(3*np.pi/2,qrb[0])"
   ]
  },
  {
   "cell_type": "code",
   "execution_count": 8,
   "id": "17862251",
   "metadata": {},
   "outputs": [
    {
     "data": {
      "text/plain": [
       "<qiskit.circuit.instructionset.InstructionSet at 0x7fdb70956ec0>"
      ]
     },
     "execution_count": 8,
     "metadata": {},
     "output_type": "execute_result"
    }
   ],
   "source": [
    "# Controlled e^{2iAt} on \\lambda_{2}:\n",
    "params = b*t*2\n",
    "\n",
    "qc.p(np.pi/2,qrb[0])\n",
    "qc.cx(qrl[1],qrb[0])\n",
    "qc.ry(params,qrb[0])\n",
    "qc.cx(qrl[1],qrb[0])\n",
    "qc.ry(-params,qrb[0])\n",
    "qc.p(3*np.pi/2,qrb[0])"
   ]
  },
  {
   "cell_type": "markdown",
   "id": "e09cc5e4",
   "metadata": {},
   "source": [
    "### Inverse Quantum Fourier Transform"
   ]
  },
  {
   "cell_type": "code",
   "execution_count": 9,
   "id": "e2fcaf5a",
   "metadata": {},
   "outputs": [
    {
     "data": {
      "text/plain": [
       "<qiskit.circuit.instructionset.InstructionSet at 0x7fdb70957f10>"
      ]
     },
     "execution_count": 9,
     "metadata": {},
     "output_type": "execute_result"
    }
   ],
   "source": [
    "qc.h(qrl[1])\n",
    "qc.rz(-np.pi/4,qrl[1])\n",
    "qc.cx(qrl[0],qrl[1])\n",
    "qc.rz(np.pi/4,qrl[1])\n",
    "qc.cx(qrl[0],qrl[1])\n",
    "qc.rz(-np.pi/4,qrl[0])\n",
    "qc.h(qrl[0])"
   ]
  },
  {
   "cell_type": "markdown",
   "id": "f75d96d4",
   "metadata": {},
   "source": [
    "# TODO: Explain this step"
   ]
  },
  {
   "cell_type": "code",
   "execution_count": 10,
   "id": "87f800b2",
   "metadata": {},
   "outputs": [],
   "source": [
    "# Eigenvalue rotation\n",
    "t1=(-np.pi +np.pi/3 - 2*np.arcsin(1/3))/4\n",
    "t2=(-np.pi -np.pi/3 + 2*np.arcsin(1/3))/4\n",
    "t3=(np.pi -np.pi/3 - 2*np.arcsin(1/3))/4\n",
    "t4=(np.pi +np.pi/3 + 2*np.arcsin(1/3))/4\n",
    "\n",
    "qc.cx(qrl[1],qra[0])\n",
    "qc.ry(t1,qra[0])\n",
    "qc.cx(qrl[0],qra[0])\n",
    "qc.ry(t2,qra[0])\n",
    "qc.cx(qrl[1],qra[0])\n",
    "qc.ry(t3,qra[0])\n",
    "qc.cx(qrl[0],qra[0])\n",
    "qc.ry(t4,qra[0])\n",
    "qc.measure_all()"
   ]
  },
  {
   "cell_type": "code",
   "execution_count": 11,
   "id": "d74904eb",
   "metadata": {},
   "outputs": [
    {
     "name": "stdout",
     "output_type": "stream",
     "text": [
      "Depth: 26\n",
      "CNOTS: 10\n"
     ]
    },
    {
     "data": {
      "text/html": [
       "<pre style=\"word-wrap: normal;white-space: pre;background: #fff0;line-height: 1.1;font-family: &quot;Courier New&quot;,Courier,monospace\">        ┌───────┐┌──────────────────────┐┌────────┐┌───┐┌──────────────┐┌───┐┌─────────────┐┌─────────┐┌────────┐┌───┐┌─────────────┐┌───┐┌────────────┐┌─────────┐                                                                                                               ░ ┌─┐         \n",
       "  q0_0: ┤ Ry(0) ├┤ U(-0.66667,-π/2,π/2) ├┤ P(π/2) ├┤ X ├┤ Ry(-0.66667) ├┤ X ├┤ Ry(0.66667) ├┤ P(3π/2) ├┤ P(π/2) ├┤ X ├┤ Ry(-1.3333) ├┤ X ├┤ Ry(1.3333) ├┤ P(3π/2) ├───────────────────────────────────────────────────────────────────────────────────────────────────────────────░─┤M├─────────\n",
       "        └─┬───┬─┘└───────┬──────┬───────┘└────────┘└─┬─┘└──────────────┘└─┬─┘└─────────────┘└─────────┘└────────┘└─┬─┘└─────────────┘└─┬─┘└────────────┘└─────────┘                      ┌──────────┐     ┌───┐                                                                   ░ └╥┘┌─┐      \n",
       "  q0_1: ──┤ H ├──────────┤ P(2) ├────────────────────■────────────────────■────────────────────────────────────────┼───────────────────┼──────────────────────────────■───────────────■──┤ Rz(-π/4) ├─────┤ H ├────────■────────────────────────────────────────■─────────────────░──╫─┤M├──────\n",
       "          ├───┤          ├──────┤                                                                                  │                   │      ┌───┐     ┌──────────┐┌─┴─┐┌─────────┐┌─┴─┐└──────────┘     └───┘        │                                        │                 ░  ║ └╥┘┌─┐   \n",
       "  q0_2: ──┤ H ├──────────┤ P(4) ├──────────────────────────────────────────────────────────────────────────────────■───────────────────■──────┤ H ├─────┤ Rz(-π/4) ├┤ X ├┤ Rz(π/4) ├┤ X ├─────■────────────────────────┼────────────────────■───────────────────┼─────────────────░──╫──╫─┤M├───\n",
       "          └───┘          └──────┘                                                                                                             └───┘     └──────────┘└───┘└─────────┘└───┘   ┌─┴─┐    ┌──────────────┐┌─┴─┐┌──────────────┐┌─┴─┐┌─────────────┐┌─┴─┐┌────────────┐ ░  ║  ║ └╥┘┌─┐\n",
       "  q0_3: ────────────────────────────────────────────────────────────────────────────────────────────────────────────────────────────────────────────────────────────────────────────────────┤ X ├────┤ Ry(-0.69352) ├┤ X ├┤ Ry(-0.87728) ├┤ X ├┤ Ry(0.35368) ├┤ X ├┤ Ry(1.2171) ├─░──╫──╫──╫─┤M├\n",
       "                                                                                                                                                                                            └───┘    └──────────────┘└───┘└──────────────┘└───┘└─────────────┘└───┘└────────────┘ ░  ║  ║  ║ └╥┘\n",
       "meas: 4/═════════════════════════════════════════════════════════════════════════════════════════════════════════════════════════════════════════════════════════════════════════════════════════════════════════════════════════════════════════════════════════════════════════════╩══╩══╩══╩═\n",
       "                                                                                                                                                                                                                                                                                     0  1  2  3 </pre>"
      ],
      "text/plain": [
       "        ┌───────┐┌──────────────────────┐┌────────┐┌───┐┌──────────────┐┌───┐┌─────────────┐┌─────────┐┌────────┐┌───┐┌─────────────┐┌───┐┌────────────┐┌─────────┐                                                                                                               ░ ┌─┐         \n",
       "  q0_0: ┤ Ry(0) ├┤ U(-0.66667,-π/2,π/2) ├┤ P(π/2) ├┤ X ├┤ Ry(-0.66667) ├┤ X ├┤ Ry(0.66667) ├┤ P(3π/2) ├┤ P(π/2) ├┤ X ├┤ Ry(-1.3333) ├┤ X ├┤ Ry(1.3333) ├┤ P(3π/2) ├───────────────────────────────────────────────────────────────────────────────────────────────────────────────░─┤M├─────────\n",
       "        └─┬───┬─┘└───────┬──────┬───────┘└────────┘└─┬─┘└──────────────┘└─┬─┘└─────────────┘└─────────┘└────────┘└─┬─┘└─────────────┘└─┬─┘└────────────┘└─────────┘                      ┌──────────┐     ┌───┐                                                                   ░ └╥┘┌─┐      \n",
       "  q0_1: ──┤ H ├──────────┤ P(2) ├────────────────────■────────────────────■────────────────────────────────────────┼───────────────────┼──────────────────────────────■───────────────■──┤ Rz(-π/4) ├─────┤ H ├────────■────────────────────────────────────────■─────────────────░──╫─┤M├──────\n",
       "          ├───┤          ├──────┤                                                                                  │                   │      ┌───┐     ┌──────────┐┌─┴─┐┌─────────┐┌─┴─┐└──────────┘     └───┘        │                                        │                 ░  ║ └╥┘┌─┐   \n",
       "  q0_2: ──┤ H ├──────────┤ P(4) ├──────────────────────────────────────────────────────────────────────────────────■───────────────────■──────┤ H ├─────┤ Rz(-π/4) ├┤ X ├┤ Rz(π/4) ├┤ X ├─────■────────────────────────┼────────────────────■───────────────────┼─────────────────░──╫──╫─┤M├───\n",
       "          └───┘          └──────┘                                                                                                             └───┘     └──────────┘└───┘└─────────┘└───┘   ┌─┴─┐    ┌──────────────┐┌─┴─┐┌──────────────┐┌─┴─┐┌─────────────┐┌─┴─┐┌────────────┐ ░  ║  ║ └╥┘┌─┐\n",
       "  q0_3: ────────────────────────────────────────────────────────────────────────────────────────────────────────────────────────────────────────────────────────────────────────────────────┤ X ├────┤ Ry(-0.69352) ├┤ X ├┤ Ry(-0.87728) ├┤ X ├┤ Ry(0.35368) ├┤ X ├┤ Ry(1.2171) ├─░──╫──╫──╫─┤M├\n",
       "                                                                                                                                                                                            └───┘    └──────────────┘└───┘└──────────────┘└───┘└─────────────┘└───┘└────────────┘ ░  ║  ║  ║ └╥┘\n",
       "meas: 4/═════════════════════════════════════════════════════════════════════════════════════════════════════════════════════════════════════════════════════════════════════════════════════════════════════════════════════════════════════════════════════════════════════════════╩══╩══╩══╩═\n",
       "                                                                                                                                                                                                                                                                                     0  1  2  3 "
      ]
     },
     "execution_count": 11,
     "metadata": {},
     "output_type": "execute_result"
    }
   ],
   "source": [
    "print(f\"Depth: {qc.depth()}\")\n",
    "print(f\"CNOTS: {qc.count_ops()['cx']}\")\n",
    "qc.draw(fold=-1)"
   ]
  },
  {
   "cell_type": "markdown",
   "id": "52f47dc4",
   "metadata": {},
   "source": [
    "## Run on Quantum Hardware"
   ]
  },
  {
   "cell_type": "markdown",
   "id": "fa354590",
   "metadata": {},
   "source": [
    "Transpile the quantum circuit for running on IBM hardware."
   ]
  },
  {
   "cell_type": "code",
   "execution_count": 12,
   "id": "44d46350",
   "metadata": {},
   "outputs": [],
   "source": [
    "from qiskit import IBMQ, transpile\n",
    "from qiskit.utils.mitigation import complete_meas_cal\n",
    "\n",
    "provider = IBMQ.load_account()\n",
    "\n",
    "backend = provider.get_backend('ibmq_quito') # calibrate using real hardware\n",
    "layout = [2,3,0,4]\n",
    "chip_qubits = 5\n",
    "\n",
    "# Transpiled circuit for the real hardware\n",
    "qc_qa_cx = transpile(qc, backend=backend, initial_layout=layout)"
   ]
  },
  {
   "cell_type": "markdown",
   "id": "9bea3c5d",
   "metadata": {},
   "source": [
    "#### Run with Error Mitigation Technique"
   ]
  },
  {
   "cell_type": "code",
   "execution_count": 13,
   "id": "e5a0b5af",
   "metadata": {},
   "outputs": [],
   "source": [
    "meas_cals, state_labels = complete_meas_cal(qubit_list=layout,\n",
    "                                            qr=QuantumRegister(chip_qubits))\n",
    "qcs = meas_cals + [qc_qa_cx]"
   ]
  },
  {
   "cell_type": "markdown",
   "id": "20d9aed0",
   "metadata": {},
   "source": [
    "Run the job on the IBM quantum hardware."
   ]
  },
  {
   "cell_type": "code",
   "execution_count": 14,
   "id": "82f96ed5",
   "metadata": {},
   "outputs": [],
   "source": [
    "job = backend.run(qcs, shots=10)"
   ]
  },
  {
   "cell_type": "markdown",
   "id": "e10770d9",
   "metadata": {},
   "source": [
    "## I have no idea what is happening beyond this point. How do we get out a useful value? Maybe just avoid using the error mitigation because it is complicating things.\n",
    "\n",
    "Use a fitter to reduce error using the error mitigation circuits created above."
   ]
  },
  {
   "cell_type": "code",
   "execution_count": 37,
   "id": "4c32f006",
   "metadata": {},
   "outputs": [],
   "source": [
    "from qiskit.utils.mitigation.fitters import CompleteMeasFitter\n",
    "\n",
    "meas_fitter = CompleteMeasFitter(job.result(), state_labels)\n",
    "mitigated_results = meas_fitter.filter.apply(job.result())"
   ]
  },
  {
   "cell_type": "code",
   "execution_count": 53,
   "id": "49faaf2c",
   "metadata": {},
   "outputs": [
    {
     "name": "stdout",
     "output_type": "stream",
     "text": [
      "{'counts': {'0x4': 1, '0x6': 2, '0x7': 1, '0xc': 1, '0xd': 5}}\n",
      "{'counts': {'0001': 5.96552122971093e-16, '0010': 3.179347951287738e-16, '0011': 1.5829155982063684e-18, '0110': 2.8219785305853917, '0111': 0.8946071591611163, '1100': 0.31985346317598545, '1101': 5.963560847077506, '1110': 3.03462652471582e-16}}\n"
     ]
    }
   ],
   "source": [
    "print(job.result().data(16))\n",
    "print(mitigated_results.data(16))"
   ]
  }
 ],
 "metadata": {
  "kernelspec": {
   "display_name": "Python 3 (ipykernel)",
   "language": "python",
   "name": "python3"
  },
  "language_info": {
   "codemirror_mode": {
    "name": "ipython",
    "version": 3
   },
   "file_extension": ".py",
   "mimetype": "text/x-python",
   "name": "python",
   "nbconvert_exporter": "python",
   "pygments_lexer": "ipython3",
   "version": "3.11.3"
  }
 },
 "nbformat": 4,
 "nbformat_minor": 5
}
