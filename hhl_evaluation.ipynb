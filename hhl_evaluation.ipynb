{
 "cells": [
  {
   "cell_type": "code",
   "execution_count": 3,
   "id": "7ba3fc9b",
   "metadata": {},
   "outputs": [],
   "source": [
    "from dotenv import load_dotenv\n",
    "from qiskit_ibm_runtime import QiskitRuntimeService\n",
    "import os\n",
    "load_dotenv()\n",
    "\n",
    "QiskitRuntimeService.save_account(channel=\"ibm_quantum\", token=os.getenv(\"IBMQ_TOKEN\"))"
   ]
  },
  {
   "cell_type": "code",
   "execution_count": 10,
   "id": "5f87e6aa",
   "metadata": {},
   "outputs": [],
   "source": [
    "import numpy as np\n",
    "from linear_solvers import NumPyLinearSolver, HHL"
   ]
  },
  {
   "cell_type": "code",
   "execution_count": 12,
   "id": "a5124b92",
   "metadata": {},
   "outputs": [],
   "source": [
    "matrix = np.array([ [1, -1/3], [-1/3, 1] ])\n",
    "vector = np.array([1, 0])"
   ]
  },
  {
   "cell_type": "code",
   "execution_count": 17,
   "id": "ddf33150",
   "metadata": {},
   "outputs": [
    {
     "name": "stdout",
     "output_type": "stream",
     "text": [
      "1.1858541225631376\n",
      "1.1858541225631423\n"
     ]
    }
   ],
   "source": [
    "# We can use the closeness of euclidean_norm to verify accuracy of HHL versus classical.\n",
    "print(HHL().solve(matrix, vector).euclidean_norm)\n",
    "print(NumPyLinearSolver().solve(matrix, vector).euclidean_norm)"
   ]
  },
  {
   "cell_type": "code",
   "execution_count": null,
   "id": "5955fc05",
   "metadata": {},
   "outputs": [],
   "source": [
    "# TODO: https://learn.qiskit.org/course/ch-applications/solving-linear-systems-of-equations-using-hhl-and-its-qiskit-implementation#implementationdev"
   ]
  }
 ],
 "metadata": {
  "kernelspec": {
   "display_name": "Python 3 (ipykernel)",
   "language": "python",
   "name": "python3"
  },
  "language_info": {
   "codemirror_mode": {
    "name": "ipython",
    "version": 3
   },
   "file_extension": ".py",
   "mimetype": "text/x-python",
   "name": "python",
   "nbconvert_exporter": "python",
   "pygments_lexer": "ipython3",
   "version": "3.11.3"
  }
 },
 "nbformat": 4,
 "nbformat_minor": 5
}
